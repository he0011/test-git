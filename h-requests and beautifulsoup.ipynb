{
 "cells": [
  {
   "cell_type": "markdown",
   "metadata": {},
   "source": [
    "### open a webpage"
   ]
  },
  {
   "cell_type": "code",
   "execution_count": 42,
   "metadata": {},
   "outputs": [
    {
     "data": {
      "text/plain": [
       "True"
      ]
     },
     "execution_count": 42,
     "metadata": {},
     "output_type": "execute_result"
    }
   ],
   "source": [
    "import webbrowser\n",
    "webbrowser.open('https://inventwithpython.com/')"
   ]
  },
  {
   "cell_type": "markdown",
   "metadata": {},
   "source": [
    "### get the request headers. As you can see , with the default setting, python tells the server this is a request from python.\n",
    "'User-Agent': 'python-requests/2.21.0'"
   ]
  },
  {
   "cell_type": "code",
   "execution_count": 43,
   "metadata": {},
   "outputs": [],
   "source": [
    "import requests\n",
    "r = requests.get('https://www.coursera.org/')\n"
   ]
  },
  {
   "cell_type": "code",
   "execution_count": 45,
   "metadata": {},
   "outputs": [
    {
     "data": {
      "text/plain": [
       "{'User-Agent': 'python-requests/2.21.0', 'Accept-Encoding': 'gzip, deflate', 'Accept': '*/*', 'Connection': 'keep-alive'}"
      ]
     },
     "execution_count": 45,
     "metadata": {},
     "output_type": "execute_result"
    }
   ],
   "source": [
    "r.request.headers\n",
    "#"
   ]
  },
  {
   "cell_type": "markdown",
   "metadata": {},
   "source": [
    "### 需修改头部信息，亚马逊才能正常访问。\n",
    "Some websites like amazon, they block non-human requests . So you need to change the header."
   ]
  },
  {
   "cell_type": "code",
   "execution_count": 6,
   "metadata": {},
   "outputs": [
    {
     "name": "stdout",
     "output_type": "stream",
     "text": [
      "failed\n"
     ]
    }
   ],
   "source": [
    "url=\"https://www.amazon.com/\"\n",
    "try:\n",
    "    kv={'user-agent':'Mozilla/5.0'}\n",
    "    r=requests.get(url,headers=kv)\n",
    "    r.raise_for_status()\n",
    "    r.encoding=r.apparent_encoding\n",
    "    print(r.text[:100])\n",
    "except:\n",
    "    print('failed')"
   ]
  },
  {
   "cell_type": "code",
   "execution_count": 7,
   "metadata": {},
   "outputs": [
    {
     "data": {
      "text/plain": [
       "{'User-Agent': 'python-requests/2.21.0', 'Accept-Encoding': 'gzip, deflate', 'Accept': '*/*', 'Connection': 'keep-alive'}"
      ]
     },
     "execution_count": 7,
     "metadata": {},
     "output_type": "execute_result"
    }
   ],
   "source": [
    "r.request.headers"
   ]
  },
  {
   "cell_type": "markdown",
   "metadata": {},
   "source": [
    "### search with google."
   ]
  },
  {
   "cell_type": "code",
   "execution_count": 15,
   "metadata": {},
   "outputs": [
    {
     "name": "stdout",
     "output_type": "stream",
     "text": [
      "<!doctype html><html lang=\"en\"><head><meta charset=\"UTF-8\"><meta content=\"/images/branding/googleg/1x/googleg_standard_color_128dp.png\" itemprop=\"image\"><title>goose - Google Search</title><script nonce=\"X2X+zI7qNCoYsMCJ3/e2bQ==\">(function(){\n",
      "document.documentElement.addEventListener(\"submit\",function(b){var a;if(a=b.target){var c=a.getAttribute(\"data-submitfalse\");a=\"1\"==c||\"q\"==c&&!a.elements.q.value?!0:!1}else a=!1;a&&(b.preventDefault(),b.stopPropagation())},!0);document.documentElement.addE\n"
     ]
    }
   ],
   "source": [
    "url=\"https://www.google.com/search\"\n",
    "try:\n",
    "    kv={'q':'goose'}\n",
    "    r=requests.get(url,params=kv)\n",
    "    r.raise_for_status()\n",
    "#     r.encoding=r.apparent_encoding\n",
    "    print(r.text[:500])\n",
    "except:\n",
    "    print('failed')"
   ]
  },
  {
   "cell_type": "code",
   "execution_count": 14,
   "metadata": {},
   "outputs": [
    {
     "data": {
      "text/plain": [
       "'https://www.google.com/search?q=goose'"
      ]
     },
     "execution_count": 14,
     "metadata": {},
     "output_type": "execute_result"
    }
   ],
   "source": [
    "r.request.url"
   ]
  },
  {
   "cell_type": "code",
   "execution_count": 12,
   "metadata": {},
   "outputs": [],
   "source": [
    "# print(r.text)"
   ]
  },
  {
   "cell_type": "markdown",
   "metadata": {},
   "source": [
    "### download a image from web\n",
    "- you know the link address\n",
    "- with this method , you can apply to any binary content\n",
    "- r.content returns binary content which is different from r.text\n",
    "- when the file is big, you may try iter_content."
   ]
  },
  {
   "cell_type": "code",
   "execution_count": 19,
   "metadata": {},
   "outputs": [
    {
     "name": "stdout",
     "output_type": "stream",
     "text": [
      "file saved:\n",
      " C:\\Users\\huang\\mu_code\\trumpdonald_040820upi_0.jpg\n"
     ]
    }
   ],
   "source": [
    "import requests,os\n",
    "url=\"https://thehill.com/sites/default/files/trumpdonald_040820upi_0.jpg\"\n",
    "path=r\"C:\\Users\\huang\\mu_code\" +'\\\\'+ url.split('/')[-1]\n",
    "try:\n",
    "    if os.path.exists(path):\n",
    "        print(\"file exists\")\n",
    "    else:\n",
    "        r=requests.get(url)\n",
    "        r.raise_for_status()\n",
    "        with open(path,'wb') as f:\n",
    "            f.write(r.content)\n",
    "        print(\"file saved:\\n\",path)\n",
    "except:\n",
    "    print('failed')"
   ]
  },
  {
   "cell_type": "markdown",
   "metadata": {},
   "source": [
    "## beautifulsoup"
   ]
  },
  {
   "cell_type": "code",
   "execution_count": 20,
   "metadata": {},
   "outputs": [],
   "source": [
    "import requests\n",
    "url=\"https://learnpythonthehardway.org/python3/\"\n",
    "r = requests.get(url)\n",
    "r.raise_for_status()\n",
    "demo=r.text"
   ]
  },
  {
   "cell_type": "code",
   "execution_count": 23,
   "metadata": {},
   "outputs": [],
   "source": [
    "import bs4\n",
    "soup = bs4.BeautifulSoup(demo,'html.parser')"
   ]
  },
  {
   "cell_type": "markdown",
   "metadata": {},
   "source": [
    "### find all tags in this soup"
   ]
  },
  {
   "cell_type": "code",
   "execution_count": 34,
   "metadata": {},
   "outputs": [
    {
     "name": "stdout",
     "output_type": "stream",
     "text": [
      "<title>Learn Python the Hard Way</title>\n"
     ]
    }
   ],
   "source": [
    "#name means the tag name. Not the attribute name.\n",
    "for tag in soup.find_all(name='title'):\n",
    "    print(tag)"
   ]
  },
  {
   "cell_type": "code",
   "execution_count": 35,
   "metadata": {},
   "outputs": [
    {
     "data": {
      "text/plain": [
       "'Learn Python the Hard Way'"
      ]
     },
     "execution_count": 35,
     "metadata": {},
     "output_type": "execute_result"
    }
   ],
   "source": [
    "tag.string"
   ]
  },
  {
   "cell_type": "code",
   "execution_count": 38,
   "metadata": {},
   "outputs": [
    {
     "name": "stdout",
     "output_type": "stream",
     "text": [
      "<a class=\"no-underline nav-trigger waves-effect\" href=\"#\" id=\"toc\"><div class=\"transformer hamburcloser\">\n",
      "<div class=\"bar bar-t\"></div>\n",
      "<div class=\"bar bar-m-a\"></div>\n",
      "<div class=\"bar bar-m-b\"></div>\n",
      "<div class=\"bar bar-b\"></div>\n",
      "</div><span class=\"nav-trigger_text show-sm-inline\">Contents</span></a>\n"
     ]
    }
   ],
   "source": [
    "for tag in soup.find_all(id=\"toc\"):\n",
    "    print(tag)"
   ]
  },
  {
   "cell_type": "code",
   "execution_count": 41,
   "metadata": {},
   "outputs": [
    {
     "name": "stdout",
     "output_type": "stream",
     "text": [
      "<a class=\"no-underline nav-trigger waves-effect\" href=\"#\" id=\"toc\">\n",
      " <div class=\"transformer hamburcloser\">\n",
      "  <div class=\"bar bar-t\">\n",
      "  </div>\n",
      "  <div class=\"bar bar-m-a\">\n",
      "  </div>\n",
      "  <div class=\"bar bar-m-b\">\n",
      "  </div>\n",
      "  <div class=\"bar bar-b\">\n",
      "  </div>\n",
      " </div>\n",
      " <span class=\"nav-trigger_text show-sm-inline\">\n",
      "  Contents\n",
      " </span>\n",
      "</a>\n",
      "\n"
     ]
    }
   ],
   "source": [
    "print(tag.prettify())"
   ]
  },
  {
   "cell_type": "code",
   "execution_count": 63,
   "metadata": {},
   "outputs": [
    {
     "name": "stdout",
     "output_type": "stream",
     "text": [
      "<a class=\"waves-effect\" href=\"https://learncodethehardway.org\">Learn:</a>\n",
      "<a class=\"waves-effect active\" href=\"https://learncodethehardway.org/python/\">Python</a>\n",
      "<a class=\"waves-effect\" href=\"https://learncodethehardway.org/ruby/\">Ruby</a>\n",
      "<a class=\"waves-effect\" href=\"https://learncodethehardway.org/more-python/\">More Python</a>\n",
      "<a class=\"waves-effect\" href=\"https://learncodethehardway.org/c/\">C</a>\n",
      "<a class=\"waves-effect\" href=\"https://learncodethehardway.org/sql/\">SQL</a>\n",
      "<a class=\"waves-effect\" href=\"https://learncodethehardway.org/javascript/\">Javascript</a>\n",
      "<a class=\"waves-effect\" href=\"https://learncodethehardway.org/unix/\">Unix</a>\n",
      "<a class=\"waves-effect\" href=\"https://learncodethehardway.org/regex/\">RegEx</a>\n",
      "<a class=\"waves-effect\" href=\"https://www.learndesignthehardway.com/\">Design</a>\n",
      "<a class=\"waves-effect\" href=\"https://learncodethehardway.org/\">LCTHW</a>\n",
      "<a class=\"waves-effect\" href=\"https://shop.learncodethehardway.org/access/reactivate/\"><i class=\"icon icon-user\"></i> Login</a>\n",
      "<a class=\"no-underline nav-trigger waves-effect\" href=\"#\" id=\"toc\"><div class=\"transformer hamburcloser\">\n",
      "<div class=\"bar bar-t\"></div>\n",
      "<div class=\"bar bar-m-a\"></div>\n",
      "<div class=\"bar bar-m-b\"></div>\n",
      "<div class=\"bar bar-b\"></div>\n",
      "</div><span class=\"nav-trigger_text show-sm-inline\">Contents</span></a>\n",
      "<a class=\"no-underline nav-trigger waves-effect\" href=\"https://helpthw.zendesk.com/hc/en-us\" id=\"help\"><div class=\"transformer questioncloser\">\n",
      "<div class=\"icon-question-mark\"></div>\n",
      "</div><span class=\"nav-trigger_text show-sm-inline\">Help</span></a>\n",
      "<a class=\"waves-effect\" href=\"#\"><i class=\"icon-information\"></i> About LPTHW</a>\n",
      "<a class=\"waves-effect\" href=\"#\"><i class=\"icon-question-mark\"></i> Help &amp; Support</a>\n",
      "<a class=\"waves-effect\" href=\"#\"><i class=\"socicon-twitter\"></i> Follow us on Twitter</a>\n"
     ]
    }
   ],
   "source": [
    "for tag in soup.find_all('a',class_=\"waves-effect\"):\n",
    "    print(tag)"
   ]
  },
  {
   "cell_type": "code",
   "execution_count": 57,
   "metadata": {},
   "outputs": [
    {
     "data": {
      "text/plain": [
       "'https://twitter.com/lzsthw'"
      ]
     },
     "execution_count": 57,
     "metadata": {},
     "output_type": "execute_result"
    }
   ],
   "source": [
    "tag.get('href')"
   ]
  },
  {
   "cell_type": "code",
   "execution_count": 55,
   "metadata": {},
   "outputs": [
    {
     "name": "stdout",
     "output_type": "stream",
     "text": [
      "Ex32: Loops And Lists\n",
      "Ex33: While Loops\n",
      "Exercise 32: Loops And Lists\n",
      "Exercise 33: While Loops\n"
     ]
    }
   ],
   "source": [
    "import re\n",
    "for tag in soup.find_all(string=re.compile('Loop')):\n",
    "    print(tag)"
   ]
  },
  {
   "cell_type": "code",
   "execution_count": null,
   "metadata": {},
   "outputs": [],
   "source": []
  },
  {
   "cell_type": "code",
   "execution_count": null,
   "metadata": {},
   "outputs": [],
   "source": []
  },
  {
   "cell_type": "code",
   "execution_count": null,
   "metadata": {},
   "outputs": [],
   "source": []
  },
  {
   "cell_type": "code",
   "execution_count": null,
   "metadata": {},
   "outputs": [],
   "source": []
  },
  {
   "cell_type": "code",
   "execution_count": 23,
   "metadata": {},
   "outputs": [
    {
     "data": {
      "text/plain": [
       "True"
      ]
     },
     "execution_count": 23,
     "metadata": {},
     "output_type": "execute_result"
    }
   ],
   "source": [
    "res = requests.get('https://automatetheboringstuff.com/files/rj.txt')\n",
    "res.status_code==requests.codes.ok\n",
    "#check if everything goes fine."
   ]
  },
  {
   "cell_type": "code",
   "execution_count": 6,
   "metadata": {},
   "outputs": [
    {
     "data": {
      "text/plain": [
       "178978"
      ]
     },
     "execution_count": 6,
     "metadata": {},
     "output_type": "execute_result"
    }
   ],
   "source": [
    "len(res.text)"
   ]
  },
  {
   "cell_type": "code",
   "execution_count": 7,
   "metadata": {},
   "outputs": [
    {
     "data": {
      "text/plain": [
       "str"
      ]
     },
     "execution_count": 7,
     "metadata": {},
     "output_type": "execute_result"
    }
   ],
   "source": [
    "type(res.text)"
   ]
  },
  {
   "cell_type": "code",
   "execution_count": null,
   "metadata": {},
   "outputs": [],
   "source": []
  },
  {
   "cell_type": "code",
   "execution_count": 17,
   "metadata": {},
   "outputs": [
    {
     "name": "stdout",
     "output_type": "stream",
     "text": [
      "https://www.google.com/search?q=xxx\n"
     ]
    }
   ],
   "source": [
    "search_text='xxx'\n",
    "url=\"https://www.google.com/search?q={}\".format(search_text)\n",
    "print(url)"
   ]
  },
  {
   "cell_type": "code",
   "execution_count": 22,
   "metadata": {},
   "outputs": [
    {
     "name": "stdout",
     "output_type": "stream",
     "text": [
      "Connection refused by the server..\n",
      "Let me sleep for 5 seconds\n",
      "ZZzzzz...\n",
      "Was a nice sleep, now let me continue...\n"
     ]
    }
   ],
   "source": [
    "import time,requests,bs4\n",
    "\n",
    "url='https://nostarch.com/'\n",
    "page = ''\n",
    "while page == '':\n",
    "    try:\n",
    "        page = requests.get(url)\n",
    "        r.raise_for_status()\n",
    "        break\n",
    "    except:\n",
    "        print(\"Connection refused by the server..\")\n",
    "        print(\"Let me sleep for 5 seconds\")\n",
    "        print(\"ZZzzzz...\")\n",
    "        time.sleep(5)\n",
    "        print(\"Was a nice sleep, now let me continue...\")\n",
    "        continue"
   ]
  },
  {
   "cell_type": "code",
   "execution_count": 23,
   "metadata": {},
   "outputs": [],
   "source": [
    "np=bs4.BeautifulSoup(page.text,'lxml')  #'html.parser')"
   ]
  },
  {
   "cell_type": "code",
   "execution_count": 42,
   "metadata": {},
   "outputs": [],
   "source": [
    "elems=np.select('div > div > p > a')"
   ]
  },
  {
   "cell_type": "code",
   "execution_count": 43,
   "metadata": {},
   "outputs": [
    {
     "data": {
      "text/plain": [
       "16"
      ]
     },
     "execution_count": 43,
     "metadata": {},
     "output_type": "execute_result"
    }
   ],
   "source": [
    "len(elems)"
   ]
  },
  {
   "cell_type": "code",
   "execution_count": 44,
   "metadata": {},
   "outputs": [
    {
     "data": {
      "text/plain": [
       "'<a href=\"/NLPPython\">Natural Language Processing with Python and spaCy</a>'"
      ]
     },
     "execution_count": 44,
     "metadata": {},
     "output_type": "execute_result"
    }
   ],
   "source": [
    "str(elems[0])"
   ]
  },
  {
   "cell_type": "code",
   "execution_count": 45,
   "metadata": {},
   "outputs": [
    {
     "data": {
      "text/plain": [
       "'/NLPPython'"
      ]
     },
     "execution_count": 45,
     "metadata": {},
     "output_type": "execute_result"
    }
   ],
   "source": [
    "elems[0].get('href')"
   ]
  },
  {
   "cell_type": "code",
   "execution_count": 48,
   "metadata": {},
   "outputs": [],
   "source": [
    "import webbrowser\n",
    "for i in range(3):\n",
    "    urlToOpen='https://nostarch.com/'+elems[i].get('href')\n",
    "    webbrowser.open(urlToOpen)"
   ]
  },
  {
   "cell_type": "code",
   "execution_count": 36,
   "metadata": {},
   "outputs": [
    {
     "data": {
      "text/plain": [
       "'Natural Language Processing with Python and spaCy'"
      ]
     },
     "execution_count": 36,
     "metadata": {},
     "output_type": "execute_result"
    }
   ],
   "source": [
    "elems[0].get_text()"
   ]
  },
  {
   "cell_type": "code",
   "execution_count": 39,
   "metadata": {},
   "outputs": [
    {
     "name": "stdout",
     "output_type": "stream",
     "text": [
      "Natural Language Processing with Python and spaCy\n",
      "Powershell for Sysadmins (formerly Automate the Boring Stuff with PowerShell)\n",
      "Black Hat Go\n",
      "The Cult of Mac, 2nd Edition\n",
      "Raspberry Pi Projects for Kids\n",
      "Mining Social Media\n",
      "Learn to Program with App Inventor\n",
      " Automate the Boring Stuff with Python, 2nd Edition\n",
      "Python One-Liners\n",
      "Game Boy Modding\n",
      "From Arsenic to Zirconium\n",
      "Write Great Code, Volume 2, 2nd Edition\n",
      "Write Great Code, Volume 1, 2nd Edition\n",
      "Write Great Code, Volume 3\n",
      "Effective C: An Introduction to Professional C Programming\n",
      "The Ghidra Book\n"
     ]
    }
   ],
   "source": [
    "for i in elems:\n",
    "    print(i.get_text())"
   ]
  },
  {
   "cell_type": "code",
   "execution_count": null,
   "metadata": {},
   "outputs": [],
   "source": []
  },
  {
   "cell_type": "code",
   "execution_count": 59,
   "metadata": {},
   "outputs": [],
   "source": [
    "from selenium import webdriver\n",
    "browser = webdriver.Firefox()"
   ]
  },
  {
   "cell_type": "code",
   "execution_count": 54,
   "metadata": {},
   "outputs": [
    {
     "data": {
      "text/plain": [
       "selenium.webdriver.firefox.webdriver.WebDriver"
      ]
     },
     "execution_count": 54,
     "metadata": {},
     "output_type": "execute_result"
    }
   ],
   "source": [
    "type(browser)"
   ]
  },
  {
   "cell_type": "code",
   "execution_count": 60,
   "metadata": {},
   "outputs": [],
   "source": [
    "browser.get(\"https://inventwithpython.com\")"
   ]
  },
  {
   "cell_type": "code",
   "execution_count": 62,
   "metadata": {},
   "outputs": [
    {
     "name": "stdout",
     "output_type": "stream",
     "text": [
      "Found img element with that class name!\n"
     ]
    }
   ],
   "source": [
    "try:\n",
    "    elem = browser.find_element_by_class_name('cover-thumb')\n",
    "    print('Found {} element with that class name!'.format(elem.tag_name))\n",
    "except:\n",
    "    print('Was not able to find an element with that name.')"
   ]
  },
  {
   "cell_type": "code",
   "execution_count": 64,
   "metadata": {},
   "outputs": [],
   "source": [
    "browser.get(\"https://inventwithpython.com\")\n",
    "linkElem = browser.find_element_by_link_text('Read Online for Free')\n",
    "linkElem.click()"
   ]
  },
  {
   "cell_type": "code",
   "execution_count": 69,
   "metadata": {},
   "outputs": [],
   "source": [
    "from selenium import webdriver\n",
    "browser = webdriver.Firefox()\n",
    "browser.get('https://login.metafilter.com')\n",
    "\n",
    "userElem = browser.find_element_by_id('user_name')\n",
    "userElem.send_keys('jack_huang')\n",
    "\n",
    "passwordElem = browser.find_element_by_id('user_pass')\n",
    "passwordElem.send_keys('abc')\n",
    "userElem.submit()\n",
    "# passwordElem.submit()"
   ]
  },
  {
   "cell_type": "code",
   "execution_count": null,
   "metadata": {},
   "outputs": [],
   "source": []
  },
  {
   "cell_type": "code",
   "execution_count": 72,
   "metadata": {},
   "outputs": [],
   "source": [
    "import time\n",
    "from selenium import webdriver\n",
    "from selenium.webdriver.common.keys import Keys\n",
    "browser = webdriver.Firefox()\n",
    "browser.get('https://www.youtube.com/')\n",
    "htmlElem = browser.find_element_by_tag_name('html')\n",
    "htmlElem.send_keys(Keys.END)     # scrolls to bottom\n",
    "time.sleep(2)\n",
    "htmlElem.send_keys(Keys.HOME)    # scrolls to top"
   ]
  },
  {
   "cell_type": "code",
   "execution_count": null,
   "metadata": {},
   "outputs": [],
   "source": []
  },
  {
   "cell_type": "code",
   "execution_count": 100,
   "metadata": {},
   "outputs": [],
   "source": [
    "from selenium import webdriver\n",
    "from selenium.webdriver.common.keys import Keys\n",
    "\n",
    "driver = webdriver.Firefox()\n",
    "driver.get(\"https://www.flickr.com/\")\n",
    "\n",
    "elem=driver.find_element_by_css_selector('#search-field')"
   ]
  },
  {
   "cell_type": "code",
   "execution_count": 101,
   "metadata": {},
   "outputs": [],
   "source": [
    "elem.send_keys('birds',Keys.ENTER)"
   ]
  },
  {
   "cell_type": "code",
   "execution_count": null,
   "metadata": {},
   "outputs": [],
   "source": []
  },
  {
   "cell_type": "code",
   "execution_count": 108,
   "metadata": {},
   "outputs": [
    {
     "name": "stdout",
     "output_type": "stream",
     "text": [
      "大神们知道黑羽魔巫宗的诗号吗?_大道独行吧_百度贴吧\n",
      "2014年1月31日 - 大神们知道黑羽魔巫宗的诗号吗?只看楼主收藏 回复 卖废柴de小男孩 大乘真圣 8 如题 回复 举报|来自Android客户端1楼2014-01-31 21:15 ...\n",
      "百度贴吧 - 百度快照\n"
     ]
    }
   ],
   "source": [
    "from selenium import webdriver\n",
    "from selenium.webdriver.common.keys import Keys\n",
    "\n",
    "wd = webdriver.Firefox()\n",
    "\n",
    "# 设置最大等待时长为 10秒\n",
    "wd.implicitly_wait(10)\n",
    "\n",
    "wd.get('https://www.baidu.com')\n",
    "\n",
    "element = wd.find_element_by_id('kw')\n",
    "\n",
    "element.send_keys('黑羽魔巫宗',Keys.ENTER)\n",
    "\n",
    "element = wd.find_element_by_id('1')\n",
    "\n",
    "print (element.text)"
   ]
  },
  {
   "cell_type": "code",
   "execution_count": null,
   "metadata": {},
   "outputs": [],
   "source": []
  },
  {
   "cell_type": "code",
   "execution_count": 98,
   "metadata": {},
   "outputs": [
    {
     "data": {
      "text/plain": [
       "1"
      ]
     },
     "execution_count": 98,
     "metadata": {},
     "output_type": "execute_result"
    }
   ],
   "source": [
    "len(elem2)"
   ]
  },
  {
   "cell_type": "code",
   "execution_count": 99,
   "metadata": {},
   "outputs": [
    {
     "data": {
      "text/plain": [
       "''"
      ]
     },
     "execution_count": 99,
     "metadata": {},
     "output_type": "execute_result"
    }
   ],
   "source": [
    "elem2[0].text"
   ]
  },
  {
   "cell_type": "code",
   "execution_count": null,
   "metadata": {},
   "outputs": [],
   "source": []
  },
  {
   "cell_type": "code",
   "execution_count": 16,
   "metadata": {},
   "outputs": [],
   "source": [
    "from pathlib import Path\n",
    "path1=Path(r'C:\\Users\\huang\\mu_code\\playfolder')\n",
    "with open(path1/'romio_and_julillet1.txt','w') as f1:\n",
    "    f1.write(res.text)\n",
    "\n",
    "#practicing writing to a specific directory."
   ]
  },
  {
   "cell_type": "code",
   "execution_count": 20,
   "metadata": {},
   "outputs": [
    {
     "name": "stdout",
     "output_type": "stream",
     "text": [
      "There was a problem:  404 Client Error: Not Found for url: https://inventwithpython.com/page_that_does_not_exist\n"
     ]
    }
   ],
   "source": [
    "import requests\n",
    "res = requests.get('https://inventwithpython.com/page_that_does_not_exist')\n",
    "try:\n",
    "    res.raise_for_status()\n",
    "except Exception as exc:\n",
    "    print('There was a problem: ' , exc)"
   ]
  },
  {
   "cell_type": "code",
   "execution_count": 34,
   "metadata": {},
   "outputs": [
    {
     "name": "stdout",
     "output_type": "stream",
     "text": [
      "100000\n",
      "78978\n"
     ]
    }
   ],
   "source": [
    "from pathlib import Path\n",
    "\n",
    "res = requests.get('https://automatetheboringstuff.com/files/rj.txt')\n",
    "res.raise_for_status()\n",
    "\n",
    "path1=Path(r'C:\\Users\\huang\\mu_code\\playfolder')\n",
    "with open(path1/'romio_and_julillet9.txt','wb') as f1:\n",
    "    for chunk in res.iter_content(100000):\n",
    "        f1.write(chunk)\n",
    "        print(len(chunk))\n",
    "#Proper way to save the text. Do it in chunks,and with 'wb' binary mode!"
   ]
  },
  {
   "cell_type": "code",
   "execution_count": 35,
   "metadata": {},
   "outputs": [
    {
     "data": {
      "text/plain": [
       "'ISO-8859-1'"
      ]
     },
     "execution_count": 35,
     "metadata": {},
     "output_type": "execute_result"
    }
   ],
   "source": [
    "res.encoding"
   ]
  },
  {
   "cell_type": "code",
   "execution_count": 37,
   "metadata": {},
   "outputs": [
    {
     "name": "stdout",
     "output_type": "stream",
     "text": [
      "100000\n",
      "31861\n"
     ]
    }
   ],
   "source": [
    "from pathlib import Path\n",
    "\n",
    "res = requests.get('https://automatetheboringstuff.com/2e/chapter12/')\n",
    "res.raise_for_status()\n",
    "\n",
    "path1=Path(r'C:\\Users\\huang\\mu_code\\playfolder')\n",
    "with open(path1/'romio_and_julillet9.html','wb') as f1:\n",
    "    for chunk in res.iter_content(100000):\n",
    "        f1.write(chunk)\n",
    "        print(len(chunk))\n",
    "        \n",
    "#code for play.It's not working very well.I intend to make something like the orignal page."
   ]
  },
  {
   "cell_type": "code",
   "execution_count": null,
   "metadata": {},
   "outputs": [],
   "source": []
  },
  {
   "cell_type": "code",
   "execution_count": null,
   "metadata": {},
   "outputs": [],
   "source": []
  },
  {
   "cell_type": "code",
   "execution_count": null,
   "metadata": {},
   "outputs": [],
   "source": []
  }
 ],
 "metadata": {
  "kernelspec": {
   "display_name": "Python 3",
   "language": "python",
   "name": "python3"
  },
  "language_info": {
   "codemirror_mode": {
    "name": "ipython",
    "version": 3
   },
   "file_extension": ".py",
   "mimetype": "text/x-python",
   "name": "python",
   "nbconvert_exporter": "python",
   "pygments_lexer": "ipython3",
   "version": "3.7.1"
  }
 },
 "nbformat": 4,
 "nbformat_minor": 2
}
